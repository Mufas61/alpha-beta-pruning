{
 "cells": [
  {
   "cell_type": "markdown",
   "metadata": {},
   "source": [
    "# Alpha-Beta-Pruning"
   ]
  },
  {
   "cell_type": "code",
   "execution_count": 2,
   "metadata": {},
   "outputs": [],
   "source": [
    "import graphviz as gv\n",
    "from IPython.display import Image, display\n",
    "import pydot\n",
    "import os"
   ]
  },
  {
   "cell_type": "markdown",
   "metadata": {},
   "source": [
    " ## Tests"
   ]
  },
  {
   "cell_type": "code",
   "execution_count": 3,
   "metadata": {},
   "outputs": [
    {
     "data": {
      "image/png": "[encoded data removed]",
      "text/plain": [
       "<IPython.core.display.Image object>"
      ]
     },
     "metadata": {},
     "output_type": "display_data"
    }
   ],
   "source": [
    "g2 = gv.Digraph(format='png')\n",
    "# maximizer nodes\n",
    "g2.attr('node', shape='triangle')\n",
    "g2.node('max-1', label='A')\n",
    "# minimizer nodes\n",
    "g2.attr('node', shape='invtriangle')\n",
    "g2.node('min-2', label='B')\n",
    "# add edges\n",
    "g2.edge('max-1', 'min-2', label='&alpha;=-&infin;; &beta;=&infin;')\n",
    "g2.node('min-3', label='C')\n",
    "g2.attr('edge', color='red', style='dotted')\n",
    "g2.edge('max-1', 'min-3', label='&alpha;=-&infin;; &beta;=&infin;')\n",
    "\n",
    "# out\n",
    "g2.render(filename='img/g2')\n",
    "display(Image(filename='img/g2.png'))\n"
   ]
  },
  {
   "cell_type": "code",
   "execution_count": 69,
   "metadata": {},
   "outputs": [],
   "source": [
    "# out\n",
    "from algorithm import *\n",
    "\n",
    "graph = {\n",
    "        'A': ['B', 'C'],\n",
    "        'B': 1,\n",
    "        'C': 2,\n",
    "    }\n",
    "\n",
    "desc = alphabeta(graph, next(iter(graph)), True, float(\"-inf\"), float(\"inf\"), out)\n",
    "digraph = build(graph, desc)\n",
    "digraph.render(filename='img/g2')\n",
    "display(Image(filename='img/g2.png'))"
   ]
  },
  {
   "cell_type": "code",
   "execution_count": null,
   "metadata": {},
   "outputs": [],
   "source": []
  }
 ],
 "metadata": {
  "kernelspec": {
   "display_name": "Python 3.6",
   "language": "python",
   "name": "python36"
  },
  "language_info": {
   "codemirror_mode": {
    "name": "ipython",
    "version": 3
   },
   "file_extension": ".py",
   "mimetype": "text/x-python",
   "name": "python",
   "nbconvert_exporter": "python",
   "pygments_lexer": "ipython3",
   "version": "3.6.3"
  }
 },
 "nbformat": 4,
 "nbformat_minor": 2
}
